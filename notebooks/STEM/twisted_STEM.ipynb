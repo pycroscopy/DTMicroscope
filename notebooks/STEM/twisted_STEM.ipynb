{
 "cells": [
  {
   "cell_type": "code",
   "execution_count": null,
   "metadata": {},
   "outputs": [],
   "source": [
    "from tem_client import TEMClient\n",
    "tem = TEMClient(\"10.46.217.241\", 9093)\n",
    "\n",
    "# example use:\n",
    "print(tem.get_detectors())\n",
    "tem.activate_device(\"flu_camera\")\n",
    "img = tem.acquire_image(\"flu_camera\")\n",
    "print(img.shape, img.dtype)"
   ]
  }
 ],
 "metadata": {
  "language_info": {
   "name": "python"
  }
 },
 "nbformat": 4,
 "nbformat_minor": 2
}
